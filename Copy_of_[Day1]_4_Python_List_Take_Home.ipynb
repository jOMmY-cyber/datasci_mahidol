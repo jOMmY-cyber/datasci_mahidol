{
  "nbformat": 4,
  "nbformat_minor": 0,
  "metadata": {
    "colab": {
      "provenance": [],
      "include_colab_link": true
    },
    "kernelspec": {
      "name": "python3",
      "display_name": "Python 3"
    },
    "language_info": {
      "name": "python"
    }
  },
  "cells": [
    {
      "cell_type": "markdown",
      "metadata": {
        "id": "view-in-github",
        "colab_type": "text"
      },
      "source": [
        "<a href=\"https://colab.research.google.com/github/jOMmY-cyber/mahidol/blob/main/Copy_of_%5BDay1%5D_4_Python_List_Take_Home.ipynb\" target=\"_parent\"><img src=\"https://colab.research.google.com/assets/colab-badge.svg\" alt=\"Open In Colab\"/></a>"
      ]
    },
    {
      "cell_type": "markdown",
      "source": [
        "### โจทย์ฝึกปฏิบัติ"
      ],
      "metadata": {
        "id": "LvNO7qACPsW8"
      }
    },
    {
      "cell_type": "markdown",
      "source": [
        "## Lab - Q9\n",
        "\n",
        "จงเขียนโปรแกรมคำนวณหาผลรวมทั้งหมดของตัวเลข `k` ตัวแรกใน list และ `k` ตัวสุดท้ายใน list\n",
        "\n",
        "โปรแกรมจะรับตัวเลขจำนวนเต็มบวก `k` เป็นลำดับแรก จากนั้นโปรแกรมจะวนรับ input ตัวเลขมาเก็บไว้ใน list `A` จนกว่าผู้ใช้จะ input ตัวอักษร `q`\n",
        "\n",
        "เมื่อได้ input ครบถ้วนแล้ว โปรแกรมจะตรวจสอบว่าจำนวนข้อมูลใน list มีเพียงพอในการคำนวณข้างต้นหรือไม่ นั่นคือความยาวของ list ต้องไม่น้อยกว่า `k` หากความยาวของ list ไม่เพียงพอให้โปรแกรม print `Invalid` และจบการทำงาน\n",
        "\n",
        "หาก input มีจำนวนเพียงพอ ให้คำนวณหาผลรวมทั้งหมดของตัวเลข `k` ตัวแรกใน list `A` และ `k` ตัวสุดท้ายใน list `A`\n",
        "\n",
        "**ตัวอย่างการคำนวณ** เมื่อ `k = 2` และ `A = [-3, 4, -4]`\n",
        "ผลรวมของ 2 ตัวแรก (-3 และ 4)ใน list กับ 2 ตัวสุดท้ายใน list (4 และ -4) คือ `(-3) + 4 + 4 + (-4) = 1`\n",
        "            \n",
        "**หมายเหตุ:**\n",
        "นักศึกษาสามารถสมมติได้ว่าผู้ใช้จะ input ตัวเลขจำนวนเต็มบวกเท่านั้นสำหรับ `k` และ ตัวเลขและตัวอักษร `q` เท่านั้นสำหรับการรับค่า list\n",
        "<hr>\n",
        "\n",
        "**ตัวอย่างที่ 1:**\n",
        "**Input:**   `k = 3` และ `A = [1.5, -2.5, 3, 4, 5, 6]`\n",
        "```\n",
        "3\n",
        "1.5\n",
        "-2.5\n",
        "3\n",
        "4\n",
        "5\n",
        "6\n",
        "q\n",
        "```\n",
        "**Expected output:**\n",
        "ผลรวมของ 3 ตัวแรก ได้แก่ 1,2,3 และ 3 ตัวสุดท้ายใน list ได้แก่ 4,5,6 คือ `1.5+(-2.5)+3+4+5+6=21`\n",
        "```\n",
        "17.0\n",
        "```\n",
        "<hr>\n",
        "\n",
        "**ตัวอย่างที่ 2:**\n",
        "**Input:** `k = 5` และ `A = [-1, 5, 11]`\n",
        "```\n",
        "5\n",
        "-1\n",
        "5\n",
        "11\n",
        "q\n",
        "```\n",
        "**Expected output:** เนื่องจากความยาวของ list เท่ากับ 3 แต่ `k = 5` ทำให้ความยาวของ list นี้ไม่เพียงพอในการคำนวณผลรวม  โปรแกรมจึงแสดงผลดังต่อไปนี้\n",
        "```\n",
        "Invalid\n",
        "```\n",
        "<hr>\n",
        "\n"
      ],
      "metadata": {
        "id": "xbnmyTNvQxPH"
      }
    },
    {
      "cell_type": "code",
      "execution_count": null,
      "metadata": {
        "id": "xhqsWrKsPZAE",
        "colab": {
          "base_uri": "https://localhost:8080/"
        },
        "outputId": "d05bda5f-cebf-4f80-dec7-d2fa326aa794"
      },
      "outputs": [
        {
          "output_type": "stream",
          "name": "stdout",
          "text": [
            "3\n",
            "1\n",
            "2\n",
            "3\n",
            "4\n",
            "5\n",
            "6\n",
            "q\n",
            "21\n",
            "21\n"
          ]
        }
      ],
      "source": [
        "#code here\n",
        "k = int(input())\n",
        "A = []\n",
        "while True:\n",
        "  a = str(input(''))\n",
        "  if a == \"q\":\n",
        "    break\n",
        "  b = int(a)\n",
        "  A.append(b)\n",
        "total = sum(A)\n",
        "m = len(A)\n",
        "if m < k:\n",
        "  print(\"Invalid\")\n",
        "else:\n",
        "  print( (sum(A[0:k])+(sum(A[k:m]))))"
      ]
    },
    {
      "cell_type": "code",
      "source": [
        "62\n",
        "13423121\n",
        "23"
      ],
      "metadata": {
        "id": "mVhu-X9J6RuQ"
      },
      "execution_count": null,
      "outputs": []
    }
  ]
}