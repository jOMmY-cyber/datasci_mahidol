{
  "nbformat": 4,
  "nbformat_minor": 0,
  "metadata": {
    "colab": {
      "provenance": [],
      "include_colab_link": true
    },
    "kernelspec": {
      "name": "python3",
      "display_name": "Python 3"
    },
    "language_info": {
      "name": "python"
    }
  },
  "cells": [
    {
      "cell_type": "markdown",
      "metadata": {
        "id": "view-in-github",
        "colab_type": "text"
      },
      "source": [
        "<a href=\"https://colab.research.google.com/github/jOMmY-cyber/mahidol/blob/main/%5BDay_1%5D_2_Python_Condition_Take_Home_Solution.ipynb\" target=\"_parent\"><img src=\"https://colab.research.google.com/assets/colab-badge.svg\" alt=\"Open In Colab\"/></a>"
      ]
    },
    {
      "cell_type": "markdown",
      "source": [
        "### โจทย์ฝึกปฏิบัติ\n",
        "\n",
        "## Lab - Q5\n",
        "จงเขียนโปรแกรมเพื่อคำนวณราคาชานมไข่มุก โดยรับ input ดังนี้\n",
        "* เป็นสมาชิกหรือไม่ (`member`)มีค่าเป็น `'Y'` หรือ `'N'`\n",
        "* ขนาดของชานมไข่มุก (`size`)มีค่าเป็น `'M'` หรือ `'L'`\n",
        "* ใส่ topping ไข่มุกหรือไม่ (`topping`) มีค่าเป็น `'Y'` หรือ `'N'`\n",
        "\n",
        "โดยราคาชานมไข่มุกแก้ว `'M'` จะมีราคาที่ 50 บาท หากเป็น `'L'` ต้องเพิ่ม 10 บาท ราคานี้เป็นราคารวม topping หากไม่ต้องการใส่ topping จะได้รับส่วนลด 10 บาท และหากเป็นสมาชิกจะได้รับส่วนลดจากราคารวม 10%\n",
        "\n",
        "เมื่อโปรแกรมรับ input ทั้งหมดแล้ว หลังจากคำนวณ โปรแกรมจะแสดงผลลัพธ์ราคาสุทธิ\n",
        "\n",
        "**หมายเหตุ:** นักศึกษาสามารถสมมติได้ว่าผู้ใช้จะ input ตามตัวอักษรที่กำหนดไว้เท่านั้น ไม่มีตัวอักษรอื่นหรือตัวเลข  \n",
        "\n",
        "<hr>\n",
        "\n",
        "**ตัวอย่างที่ 1:**\n",
        "\n",
        "**Input:** `member='Y'`,  `size='M'`, และ `topping='N'` โดยโปรแกรมจะถาม `member`, `size` และ `topping` ตามลำดับ\n",
        "```\n",
        "Y\n",
        "M\n",
        "N\n",
        "```\n",
        "**Expected output:** หลังจากโปรแกรมคำนวณแล้ว โปรแกรมควรแสดงผลลัพธ์เป็น\n",
        "```\n",
        "Total price: 36.0\n",
        "```\n",
        "<hr>\n",
        "\n",
        "**ตัวอย่างที่ 2:**\n",
        "\n",
        "**Input:** `member='N'`,  `size='L'`, และ `topping='Y'` โดยโปรแกรมจะถาม `member`, `size` และ `topping` ตามลำดับ\n",
        "```\n",
        "N\n",
        "L\n",
        "Y\n",
        "```\n",
        "**Expected output:** หลังจากโปรแกรมคำนวณแล้ว โปรแกรมควรแสดงผลลัพธ์เป็น\n",
        "```\n",
        "Total price: 60.0\n",
        "```\n",
        "<hr>\n",
        "\n",
        "**ตัวอย่างที่ 3:**\n",
        "\n",
        "**Input:** `member='Y'`,  `size='L'`, และ `topping='Y'` โดยโปรแกรมจะถาม `member`, `size` และ `topping` ตามลำดับ\n",
        "```\n",
        "Y\n",
        "L\n",
        "Y\n",
        "```\n",
        "**Expected output:** หลังจากโปรแกรมคำนวณแล้ว โปรแกรมควรแสดงผลลัพธ์เป็น\n",
        "```\n",
        "Total price: 54.0\n",
        "```\n",
        "<hr>\n",
        "\n",
        "\n",
        "\n"
      ],
      "metadata": {
        "id": "FdHToENsxdr9"
      }
    },
    {
      "cell_type": "code",
      "execution_count": null,
      "metadata": {
        "colab": {
          "base_uri": "https://localhost:8080/"
        },
        "id": "WCaRtu8NxYWF",
        "outputId": "d28528cf-240b-4410-ed66-5059f0b5f434"
      },
      "outputs": [
        {
          "output_type": "stream",
          "name": "stdout",
          "text": [
            "Y\n",
            "L\n",
            "Y\n",
            "Total price: 54.0\n"
          ]
        }
      ],
      "source": [
        "member = input()\n",
        "size = input()\n",
        "topping = input()\n",
        "total = 0.0\n",
        "#size to set total\n",
        "if size == 'M':\n",
        "    total += 50\n",
        "else:\n",
        "    total += 60\n",
        "\n",
        "#topping\n",
        "if topping == 'N':\n",
        "    total -= 10\n",
        "\n",
        "#member\n",
        "if member == 'Y':\n",
        "    total *= 0.9\n",
        "print(f'Total price: {total}')"
      ]
    },
    {
      "cell_type": "code",
      "source": [],
      "metadata": {
        "id": "q6E5ui1yzS33"
      },
      "execution_count": null,
      "outputs": []
    }
  ]
}