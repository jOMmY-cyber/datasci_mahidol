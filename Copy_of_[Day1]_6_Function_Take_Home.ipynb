{
  "nbformat": 4,
  "nbformat_minor": 0,
  "metadata": {
    "colab": {
      "provenance": [],
      "include_colab_link": true
    },
    "kernelspec": {
      "name": "python3",
      "display_name": "Python 3"
    },
    "language_info": {
      "name": "python"
    }
  },
  "cells": [
    {
      "cell_type": "markdown",
      "metadata": {
        "id": "view-in-github",
        "colab_type": "text"
      },
      "source": [
        "<a href=\"https://colab.research.google.com/github/jOMmY-cyber/datasci_mahidol/blob/main/Copy_of_%5BDay1%5D_6_Function_Take_Home.ipynb\" target=\"_parent\"><img src=\"https://colab.research.google.com/assets/colab-badge.svg\" alt=\"Open In Colab\"/></a>"
      ]
    },
    {
      "cell_type": "code",
      "execution_count": null,
      "metadata": {
        "id": "Pn1gRcYAjRCn"
      },
      "outputs": [],
      "source": []
    },
    {
      "cell_type": "markdown",
      "source": [
        "### โจทย์ฝึกปฏิบัติ\n"
      ],
      "metadata": {
        "id": "uGpE2s0Tjb65"
      }
    },
    {
      "cell_type": "markdown",
      "source": [
        "\n",
        "## Lab - Q11\n",
        "\n",
        "จงเขียนโปรแกรมที่มีการเรียกใช้ function ที่ชื่อว่า `multiple_letter_count` ที่รับ 1 parameters คือ text และ return dictionary ชึ่งมี key เป็นตัวอักษร และมี value เป็นจำนวนตัวอักษร\n",
        "\n",
        "**ตัวอย่างที่ 1:**\n",
        "**Input:**\n",
        "```\n",
        "awesome\n",
        "```\n",
        "**Expected output:**\n",
        "```\n",
        "{'a': 1, 'w': 1, 'e': 2, 's': 1, 'o': 1, 'm': 1}\n",
        "```\n",
        "<hr>\n",
        "\n",
        "**ตัวอย่างที่ 2:**\n",
        "**Input:**\n",
        "```\n",
        "hi\n",
        "```\n",
        "**Expected output:**\n",
        "```\n",
        "{'h': 1, 'i': 1}\n",
        "```\n",
        "<hr>\n",
        "\n",
        "**ตัวอย่างที่ 3:**\n",
        "**Input:**\n",
        "```\n",
        "hello how are you\n",
        "```\n",
        "**Expected output:**\n",
        "```\n",
        "{'h': 2, 'e': 2, 'l': 2, 'o': 3, ' ': 3, 'w': 1, 'a': 1, 'r': 1, 'y': 1, 'u': 1}\n",
        "```\n",
        "<hr>"
      ],
      "metadata": {
        "id": "9u4DHYPzjgUj"
      }
    },
    {
      "cell_type": "code",
      "source": [
        "#code here"
      ],
      "metadata": {
        "id": "kBX6ZmZjjeMJ"
      },
      "execution_count": null,
      "outputs": []
    },
    {
      "cell_type": "code",
      "source": [
        "a = input(\"Enter a string: \")\n",
        "\n",
        "letter_counts = {}\n",
        "\n",
        "for char in a:\n",
        "    char = char.lower()\n",
        "    if char.isalpha():\n",
        "        if char in letter_counts:\n",
        "            letter_counts[char] += 1\n",
        "        else:\n",
        "            letter_counts[char] = 1\n",
        "\n",
        "print(\"Letter counts:\")\n",
        "for letter, count in letter_counts.items():\n",
        "    print(f\"{letter}: {count} \",end=\"\")\n"
      ],
      "metadata": {
        "id": "0rVzEfrSkMoq",
        "colab": {
          "base_uri": "https://localhost:8080/"
        },
        "outputId": "25003da2-8a4c-4f0c-bf7d-3a8e3b27e088"
      },
      "execution_count": 2,
      "outputs": [
        {
          "output_type": "stream",
          "name": "stdout",
          "text": [
            "Enter a string: hello\n",
            "Letter counts:\n",
            "h: 1e: 1l: 2o: 1"
          ]
        }
      ]
    },
    {
      "cell_type": "code",
      "source": [],
      "metadata": {
        "id": "dTmbEwUL-kb5"
      },
      "execution_count": null,
      "outputs": []
    }
  ]
}