{
  "nbformat": 4,
  "nbformat_minor": 0,
  "metadata": {
    "colab": {
      "provenance": [],
      "include_colab_link": true
    },
    "kernelspec": {
      "name": "python3",
      "display_name": "Python 3"
    },
    "language_info": {
      "name": "python"
    }
  },
  "cells": [
    {
      "cell_type": "markdown",
      "metadata": {
        "id": "view-in-github",
        "colab_type": "text"
      },
      "source": [
        "<a href=\"https://colab.research.google.com/github/jOMmY-cyber/mahidol/blob/main/Copy_of_%5BDay1%5D_6_Function_Take_Home.ipynb\" target=\"_parent\"><img src=\"https://colab.research.google.com/assets/colab-badge.svg\" alt=\"Open In Colab\"/></a>"
      ]
    },
    {
      "cell_type": "code",
      "execution_count": null,
      "metadata": {
        "id": "Pn1gRcYAjRCn"
      },
      "outputs": [],
      "source": []
    },
    {
      "cell_type": "markdown",
      "source": [
        "### โจทย์ฝึกปฏิบัติ\n"
      ],
      "metadata": {
        "id": "uGpE2s0Tjb65"
      }
    },
    {
      "cell_type": "markdown",
      "source": [
        "\n",
        "## Lab - Q11\n",
        "\n",
        "จงเขียนโปรแกรมที่มีการเรียกใช้ function ที่ชื่อว่า `multiple_letter_count` ที่รับ 1 parameters คือ text และ return dictionary ชึ่งมี key เป็นตัวอักษร และมี value เป็นจำนวนตัวอักษร\n",
        "\n",
        "**ตัวอย่างที่ 1:**\n",
        "**Input:**\n",
        "```\n",
        "awesome\n",
        "```\n",
        "**Expected output:**\n",
        "```\n",
        "{'a': 1, 'w': 1, 'e': 2, 's': 1, 'o': 1, 'm': 1}\n",
        "```\n",
        "<hr>\n",
        "\n",
        "**ตัวอย่างที่ 2:**\n",
        "**Input:**\n",
        "```\n",
        "hi\n",
        "```\n",
        "**Expected output:**\n",
        "```\n",
        "{'h': 1, 'i': 1}\n",
        "```\n",
        "<hr>\n",
        "\n",
        "**ตัวอย่างที่ 3:**\n",
        "**Input:**\n",
        "```\n",
        "hello how are you\n",
        "```\n",
        "**Expected output:**\n",
        "```\n",
        "{'h': 2, 'e': 2, 'l': 2, 'o': 3, ' ': 3, 'w': 1, 'a': 1, 'r': 1, 'y': 1, 'u': 1}\n",
        "```\n",
        "<hr>"
      ],
      "metadata": {
        "id": "9u4DHYPzjgUj"
      }
    },
    {
      "cell_type": "code",
      "source": [
        "#code here"
      ],
      "metadata": {
        "id": "kBX6ZmZjjeMJ"
      },
      "execution_count": null,
      "outputs": []
    },
    {
      "cell_type": "code",
      "source": [
        "a = input(\"Enter a string: \")\n",
        "\n",
        "# Initialize an empty dictionary to store the letter counts\n",
        "letter_counts = {}\n",
        "\n",
        "# Iterate through each character in the input string\n",
        "for char in a:\n",
        "    # Convert the character to lowercase to count letters case-insensitively\n",
        "    char = char.lower()\n",
        "    # Check if the character is a letter\n",
        "    if char.isalpha():\n",
        "        if char in letter_counts:\n",
        "            letter_counts[char] += 1\n",
        "        else:\n",
        "            letter_counts[char] = 1\n",
        "\n",
        "# Print the letter counts\n",
        "print(\"Letter counts:\")\n",
        "for letter, count in letter_counts.items():\n",
        "    print(f\"{letter}: {count}\")\n"
      ],
      "metadata": {
        "id": "0rVzEfrSkMoq",
        "colab": {
          "base_uri": "https://localhost:8080/",
          "height": 315
        },
        "outputId": "8f7fc299-6fde-44e3-e4ef-2313a0789bb3"
      },
      "execution_count": 2,
      "outputs": [
        {
          "name": "stdout",
          "output_type": "stream",
          "text": [
            "something\n"
          ]
        },
        {
          "output_type": "error",
          "ename": "NameError",
          "evalue": "name 'sentence' is not defined",
          "traceback": [
            "\u001b[0;31m---------------------------------------------------------------------------\u001b[0m",
            "\u001b[0;31mNameError\u001b[0m                                 Traceback (most recent call last)",
            "\u001b[0;32m<ipython-input-2-8717547b5505>\u001b[0m in \u001b[0;36m<cell line: 24>\u001b[0;34m()\u001b[0m\n\u001b[1;32m     22\u001b[0m   \u001b[0;32mfor\u001b[0m \u001b[0mletter\u001b[0m\u001b[0;34m,\u001b[0m \u001b[0mcount\u001b[0m \u001b[0;32min\u001b[0m \u001b[0mletter_counts\u001b[0m\u001b[0;34m.\u001b[0m\u001b[0mitems\u001b[0m\u001b[0;34m(\u001b[0m\u001b[0;34m)\u001b[0m\u001b[0;34m:\u001b[0m\u001b[0;34m\u001b[0m\u001b[0;34m\u001b[0m\u001b[0m\n\u001b[1;32m     23\u001b[0m       \u001b[0mprint\u001b[0m\u001b[0;34m(\u001b[0m\u001b[0;34mf\"'{letter}': {count}\"\u001b[0m\u001b[0;34m)\u001b[0m\u001b[0;34m\u001b[0m\u001b[0;34m\u001b[0m\u001b[0m\n\u001b[0;32m---> 24\u001b[0;31m \u001b[0mmultiple_letter_count\u001b[0m\u001b[0;34m(\u001b[0m\u001b[0ma\u001b[0m\u001b[0;34m)\u001b[0m\u001b[0;34m\u001b[0m\u001b[0;34m\u001b[0m\u001b[0m\n\u001b[0m",
            "\u001b[0;32m<ipython-input-2-8717547b5505>\u001b[0m in \u001b[0;36mmultiple_letter_count\u001b[0;34m(a)\u001b[0m\n\u001b[1;32m      8\u001b[0m \u001b[0;34m\u001b[0m\u001b[0m\n\u001b[1;32m      9\u001b[0m   \u001b[0;31m# Loop through each character in the sentence\u001b[0m\u001b[0;34m\u001b[0m\u001b[0;34m\u001b[0m\u001b[0m\n\u001b[0;32m---> 10\u001b[0;31m   \u001b[0;32mfor\u001b[0m \u001b[0mchar\u001b[0m \u001b[0;32min\u001b[0m \u001b[0msentence\u001b[0m\u001b[0;34m:\u001b[0m\u001b[0;34m\u001b[0m\u001b[0;34m\u001b[0m\u001b[0m\n\u001b[0m\u001b[1;32m     11\u001b[0m       \u001b[0;31m# Ignore spaces\u001b[0m\u001b[0;34m\u001b[0m\u001b[0;34m\u001b[0m\u001b[0m\n\u001b[1;32m     12\u001b[0m       \u001b[0;32mif\u001b[0m \u001b[0mchar\u001b[0m \u001b[0;34m!=\u001b[0m \u001b[0;34m' '\u001b[0m\u001b[0;34m:\u001b[0m\u001b[0;34m\u001b[0m\u001b[0;34m\u001b[0m\u001b[0m\n",
            "\u001b[0;31mNameError\u001b[0m: name 'sentence' is not defined"
          ]
        }
      ]
    },
    {
      "cell_type": "code",
      "source": [],
      "metadata": {
        "id": "dTmbEwUL-kb5"
      },
      "execution_count": null,
      "outputs": []
    }
  ]
}