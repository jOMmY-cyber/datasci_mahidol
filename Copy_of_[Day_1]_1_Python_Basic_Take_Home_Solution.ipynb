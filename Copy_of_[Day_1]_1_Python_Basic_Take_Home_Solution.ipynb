{
  "nbformat": 4,
  "nbformat_minor": 0,
  "metadata": {
    "colab": {
      "provenance": [],
      "include_colab_link": true
    },
    "kernelspec": {
      "name": "python3",
      "display_name": "Python 3"
    },
    "language_info": {
      "name": "python"
    }
  },
  "cells": [
    {
      "cell_type": "markdown",
      "metadata": {
        "id": "view-in-github",
        "colab_type": "text"
      },
      "source": [
        "<a href=\"https://colab.research.google.com/github/jOMmY-cyber/mahidol/blob/main/Copy_of_%5BDay_1%5D_1_Python_Basic_Take_Home_Solution.ipynb\" target=\"_parent\"><img src=\"https://colab.research.google.com/assets/colab-badge.svg\" alt=\"Open In Colab\"/></a>"
      ]
    },
    {
      "cell_type": "markdown",
      "source": [
        "### โจทย์ฝึกปฏิบัติ"
      ],
      "metadata": {
        "id": "t9ciNVXgj8-q"
      }
    },
    {
      "cell_type": "markdown",
      "source": [
        "## Lab - Q1\n",
        "\n",
        "\n",
        "จงเขียนโปรแกรมเพื่อแสดงข้อความทักทายจากการรับชื่อ ดังตัวอย่าง\n",
        "เมื่อ user พิมพ์ `'Peter Parker'` เป็น input โปรแกรมจะแสดงข้อความทักทายจะเป็น `'Hello Peter Parker!! Have a good day'`\n",
        "\n",
        "<hr>\n",
        "\n",
        "**ตัวอย่างที่ 1:**\n",
        "\n",
        "**Input:**\n",
        "```\n",
        "Albus Percival Wulfric Brian Dumbledore\n",
        "```\n",
        "**Expected output:** หลังจากได้รับชื่อแล้ว โปรแกรมควรแสดงผลลัพธ์เป็น\n",
        "```\n",
        "Hello Albus Percival Wulfric Brian Dumbledore!! Have a good day\n",
        "```\n",
        "<hr>\n",
        "\n",
        "**ตัวอย่างที่ 2:**\n",
        "\n",
        "**Input:**\n",
        "```\n",
        "Tom Marvolo Riddle\n",
        "```\n",
        "**Expected output:** หลังจากได้รับชื่อแล้ว โปรแกรมควรแสดงผลลัพธ์เป็น\n",
        "```\n",
        "Hello Tom Marvolo Riddle!! Have a good day\n",
        "```\n",
        "<hr>\n"
      ],
      "metadata": {
        "id": "-KRq_7URkB-V"
      }
    },
    {
      "cell_type": "code",
      "execution_count": null,
      "metadata": {
        "id": "i-oWnOoqjakT",
        "colab": {
          "base_uri": "https://localhost:8080/"
        },
        "outputId": "ce1e83e8-ad5a-4317-adf6-7353ec3f23c0"
      },
      "outputs": [
        {
          "output_type": "stream",
          "name": "stdout",
          "text": [
            "Hello Aueangkoon Ketkraw\n",
            "Peter Parker\n",
            "Hello Peter Parker!! Have a good day\n"
          ]
        }
      ],
      "source": [
        "print (\"Hello Aueangkoon Ketkraw\")\n",
        "\n",
        "#code here\n",
        "name = input()\n",
        "print(f'Hello {name}!! Have a good day')"
      ]
    },
    {
      "cell_type": "code",
      "source": [
        "print(\"Hello Kwanklao\")\n",
        "name = input()\n",
        "print(f\"Hello {name}!! Have a good day\")"
      ],
      "metadata": {
        "id": "ZRBzF6cZmQg4"
      },
      "execution_count": null,
      "outputs": []
    },
    {
      "cell_type": "markdown",
      "source": [
        "## Lab - Q2\n",
        "\n",
        "\n",
        "จงเขียนโปรแกรมเพื่อคำนวณหาเส้นรอบวงของสี่เหลี่ยมผืนผ้า โดยโปรแกรมจะรับ Input เป็นความกว้าง `w` และความสูง `h` ตามลำดับ\n",
        "\n",
        "<hr>\n",
        "\n",
        "**ตัวอย่างที่ 1:**\n",
        "\n",
        "**Input:** `w=10` และ `h=5`\n",
        "```\n",
        "10\n",
        "5\n",
        "```\n",
        "**Expected output:** หลังจากได้รับขนาดของสี่เหลี่ยมผืนผ้าแล้ว โปรแกรมควรแสดงผลลัพธ์เป็น\n",
        "```\n",
        "Perimeter: 30.0\n",
        "```\n",
        "<hr>\n",
        "\n",
        "**ตัวอย่างที่ 2:**\n",
        "\n",
        "**Input:** `w=1` และ `h=2`\n",
        "```\n",
        "1.5\n",
        "2\n",
        "```\n",
        "**Expected output:** หลังจากได้รับขนาดของสี่เหลี่ยมผืนผ้าแล้ว โปรแกรมควรแสดงผลลัพธ์เป็น\n",
        "```\n",
        "Perimeter: 7.0\n",
        "```\n",
        "<hr>\n"
      ],
      "metadata": {
        "id": "3-Jwjm7BkSBj"
      }
    },
    {
      "cell_type": "code",
      "source": [
        "#code here\n",
        "w = float(input()) #10\n",
        "h = float(input()) #5\n",
        "print(f'Perimeter: {w*2+h*2}') #30"
      ],
      "metadata": {
        "id": "ZRDM6bgZj-j0",
        "colab": {
          "base_uri": "https://localhost:8080/"
        },
        "outputId": "6a333e10-d5fb-4aa1-d396-dedd5cf56038"
      },
      "execution_count": null,
      "outputs": [
        {
          "output_type": "stream",
          "name": "stdout",
          "text": [
            "1.5\n",
            "2\n",
            "Perimeter: 7.0\n"
          ]
        }
      ]
    },
    {
      "cell_type": "code",
      "source": [
        "w = float(input()) #10\n",
        "h = float(input()) #5\n",
        "print(f'Perimeter: {w*2+h*2}') #30"
      ],
      "metadata": {
        "id": "xrP7y2vT12LC"
      },
      "execution_count": null,
      "outputs": []
    },
    {
      "cell_type": "markdown",
      "source": [
        "## Lab - Q3\n",
        "\n",
        "จงเขียนโปรแกรมเพื่อคำนวณหาจำนวนชั่วโมงและจำนวนนาที โดยมีการรับ Input เป็นจำนวนนาที และโปรแกรมจะแสดงผลลัพธ์ในรูปแบบ `hh:mm` (จำนวนชั่วโมง:จำนวนนาที)\n",
        "\n",
        "<hr>\n",
        "\n",
        "**ตัวอย่างที่ 1:**\n",
        "\n",
        "**Input:** จำนวนนาที 15 นาที\n",
        "```\n",
        "15\n",
        "```\n",
        "**Expected output:** หลังจากคำนวณแล้ว โปรแกรมควรแสดงผลลัพธ์เป็น `hh:mm`\n",
        "```\n",
        "0:15\n",
        "```\n",
        "<hr>\n",
        "\n",
        "**ตัวอย่างที่ 2:**\n",
        "\n",
        "**Input:** จำนวนนาที 180 นาที\n",
        "```\n",
        "180\n",
        "```\n",
        "**Expected output:** หลังจากคำนวณแล้ว โปรแกรมควรแสดงผลลัพธ์เป็น `hh:mm`\n",
        "```\n",
        "3:0\n",
        "```\n",
        "<hr>\n",
        "\n",
        "**ตัวอย่างที่ 3:**\n",
        "\n",
        "**Input:** จำนวนนาที 3659 นาที\n",
        "```\n",
        "3659\n",
        "```\n",
        "**Expected output:** หลังจากคำนวณแล้ว โปรแกรมควรแสดงผลลัพธ์เป็น `hh:mm`\n",
        "```\n",
        "60:59\n",
        "```\n",
        "<hr>\n"
      ],
      "metadata": {
        "id": "t-4NBM9mkf_C"
      }
    },
    {
      "cell_type": "code",
      "source": [
        "#code here\n",
        "mins = int(input())\n",
        "hh = mins //60\n",
        "mm = mins-(hh*60)\n",
        "print(f'{hh}:{mm}')"
      ],
      "metadata": {
        "id": "D5UkP5BEkhPy",
        "colab": {
          "base_uri": "https://localhost:8080/"
        },
        "outputId": "4c01fd92-c3c6-4323-c87a-1abd47f774e1"
      },
      "execution_count": null,
      "outputs": [
        {
          "output_type": "stream",
          "name": "stdout",
          "text": [
            "15\n",
            "0:15\n"
          ]
        }
      ]
    },
    {
      "cell_type": "markdown",
      "source": [
        "## Lab - Q4\n",
        "จงเขียนโปรแกรมเพื่อคำนวณพื้นที่ของรูปสามเหลี่ยม *โดยรับ Input*เป็นฐาน (`base`) และความสูง (`height`) ตามลำดับ\n",
        "<hr>\n",
        "\n",
        "**ตัวอย่างที่ 1:**\n",
        "\n",
        "**Input:** `base=10` และ `height=5` โดยพิมพ์ 10 และ 5 ตามลำดับ\n",
        "```\n",
        "10\n",
        "5\n",
        "```\n",
        "**Expected output:** หลังจากโปรแกรมคำนวณแล้ว พื้นที่สามเหลี่ยม โปรแกรมควรแสดงผลลัพธ์เป็น\n",
        "```\n",
        "25.0\n",
        "```\n",
        "<hr>\n",
        "\n",
        "**ตัวอย่างที่ 2:**\n",
        "\n",
        "**Input:** `base=1000` และ `height=42.88` โดยพิมพ์ 1000 และ 42.88 ตามลำดับ\n",
        "```\n",
        "1000\n",
        "42.88\n",
        "```\n",
        "**Expected output:** หลังจากโปรแกรมคำนวณแล้ว พื้นที่สามเหลี่ยม โปรแกรมควรแสดงผลลัพธ์เป็น\n",
        "```\n",
        "21440.0\n",
        "```\n",
        "<hr>"
      ],
      "metadata": {
        "id": "w38uCA6qkni6"
      }
    },
    {
      "cell_type": "code",
      "source": [
        "b = float(input(\"Enter base\"))\n",
        "h = float(input(\"Enter height\"))\n",
        "area = (base * height)/2\n",
        "print(area)"
      ],
      "metadata": {
        "id": "iGglLOELkoie",
        "colab": {
          "base_uri": "https://localhost:8080/"
        },
        "outputId": "cb77a024-1d32-4c28-e649-072e065b5cb4"
      },
      "execution_count": null,
      "outputs": [
        {
          "output_type": "stream",
          "name": "stdout",
          "text": [
            "1000\n",
            "42.88\n",
            "21440.0\n"
          ]
        }
      ]
    }
  ]
}