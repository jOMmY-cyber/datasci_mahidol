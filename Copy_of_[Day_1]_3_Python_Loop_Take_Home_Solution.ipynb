{
  "nbformat": 4,
  "nbformat_minor": 0,
  "metadata": {
    "colab": {
      "provenance": [],
      "include_colab_link": true
    },
    "kernelspec": {
      "name": "python3",
      "display_name": "Python 3"
    },
    "language_info": {
      "name": "python"
    }
  },
  "cells": [
    {
      "cell_type": "markdown",
      "metadata": {
        "id": "view-in-github",
        "colab_type": "text"
      },
      "source": [
        "<a href=\"https://colab.research.google.com/github/jOMmY-cyber/mahidol/blob/main/Copy_of_%5BDay_1%5D_3_Python_Loop_Take_Home_Solution.ipynb\" target=\"_parent\"><img src=\"https://colab.research.google.com/assets/colab-badge.svg\" alt=\"Open In Colab\"/></a>"
      ]
    },
    {
      "cell_type": "markdown",
      "source": [
        "### โจทย์ฝึกปฏิบัติ"
      ],
      "metadata": {
        "id": "OJz0xtJ_8zH4"
      }
    },
    {
      "cell_type": "markdown",
      "source": [
        "## Lab - Q6\n",
        "จงเขียนโปรแกรมเพื่อแสดงผลลัพธ์ `1 2 3 4 5 6 7 8` โดยใช้ for และ while loop"
      ],
      "metadata": {
        "id": "IJwoE4ud9Z1X"
      }
    },
    {
      "cell_type": "code",
      "execution_count": null,
      "metadata": {
        "id": "tvfevLOk8aRW",
        "colab": {
          "base_uri": "https://localhost:8080/"
        },
        "outputId": "1e08cc0d-4b0b-49d6-e79b-cff8b60701b3"
      },
      "outputs": [
        {
          "output_type": "stream",
          "name": "stdout",
          "text": [
            "1234567812345678"
          ]
        }
      ],
      "source": [
        "#code here\n",
        "for i in range (8):\n",
        "  print(i+1,end='')\n",
        "\n",
        "j = 0\n",
        "k = 8\n",
        "while j < k:\n",
        "  print(j+1,end='')\n",
        "  j+=1"
      ]
    },
    {
      "cell_type": "markdown",
      "source": [
        "## Lab - Q7\n",
        "จงเขียนโปรแกรมเพื่อแสดงผลลัพธ์ `100 99 98 … 1` โดยใช้ for และ while loop"
      ],
      "metadata": {
        "id": "88vcujUi9wyk"
      }
    },
    {
      "cell_type": "code",
      "source": [
        "#code here\n",
        "i = 100\n",
        "n = 0\n",
        "while i>n:\n",
        "  print(i,\" \",end=\"\")\n",
        "  i -= 1\n",
        "# for i in range (100,0,-1):\n",
        "#   print(i)"
      ],
      "metadata": {
        "id": "HzH1XRT490vD",
        "colab": {
          "base_uri": "https://localhost:8080/"
        },
        "collapsed": true,
        "outputId": "de7395c2-3556-487e-e4f3-7c1579e9ddfd"
      },
      "execution_count": null,
      "outputs": [
        {
          "output_type": "stream",
          "name": "stdout",
          "text": [
            "100  99  98  97  96  95  94  93  92  91  90  89  88  87  86  85  84  83  82  81  80  79  78  77  76  75  74  73  72  71  70  69  68  67  66  65  64  63  62  61  60  59  58  57  56  55  54  53  52  51  50  49  48  47  46  45  44  43  42  41  40  39  38  37  36  35  34  33  32  31  30  29  28  27  26  25  24  23  22  21  20  19  18  17  16  15  14  13  12  11  10  9  8  7  6  5  4  3  2  1  "
          ]
        }
      ]
    },
    {
      "cell_type": "markdown",
      "source": [
        "## Lab - Q8\n",
        "\n",
        "จงเขียนโปรแกรมโดยใช้ **for loop** เพื่อแสดง และนับจำนวนตัวเลขใน range `[x,y]` ที่สามารถหารด้วย `d` ลงตัว โปรแกรมนี้รับ 3 input ดังนี้\n",
        "* `x` ตัวเลขเริ่มต้นของ range\n",
        "* `y` ตัวเลขสุดท้ายของ range (รวม`y`ด้วย)\n",
        "* `d` ตัวหาร\n",
        "\n",
        "**หมายเหตุ:**\n",
        "* นักศึกษาสามารถสมมติได้ว่าผู้ใช้จะ input ตัวเลขจำนวนเต็มเท่านั้น `d` ไม่เท่ากับ 0 และ input `y` ต้องมากกว่า `x`\n",
        "\n",
        "<hr>\n",
        "\n",
        "**ตัวอย่างที่ 1:**\n",
        "**Input:** `x=5`, `y=21`, และ `d=3`\n",
        "```\n",
        "5\n",
        "21\n",
        "3\n",
        "```\n",
        "**Expected output:** หลังจากโปรแกรมรับค่า `x`, `y` และ `d` แล้ว โปรแกรมจะแสดงตัวเลขใน range [5, 21] ที่ 3 หารลงตัว ซึ่งมีจำนวนทั้งหมด 6 จำนวน ดังต่อไปนี้\n",
        "```\n",
        "6 9 12 15 18 21 count=6\n",
        "```\n",
        "<hr>\n",
        "\n",
        "**ตัวอย่างที่ 2:**\n",
        "**Input:** `x=-10`, `y=10`, และ `d=4`\n",
        "```\n",
        "-10\n",
        "10\n",
        "4\n",
        "```\n",
        "**Expected output:** หลังจากโปรแกรมรับค่า `x`, `y` และ `d` แล้ว โปรแกรมจะแสดงตัวเลขใน range [-10, 10] ที่ 4 หารลงตัว ซึ่งมีจำนวนทั้งหมด 5 จำนวน ดังต่อไปนี้\n",
        "```\n",
        "-8 -4 0 4 8 count=5\n",
        "```\n",
        "<hr>\n",
        "\n",
        "**ตัวอย่างที่ 3:**\n",
        "**Input:** `x=-5`, `y=5`, และ `d=-1`\n",
        "```\n",
        "-5\n",
        "5\n",
        "-1\n",
        "```\n",
        "**Expected output:** หลังจากโปรแกรมรับค่า `x`, `y` และ `d` แล้ว โปรแกรมจะแสดงตัวเลขใน range [-5, 5] ที่ -1 หารลงตัว ซึ่งมีจำนวนทั้งหมด 11 จำนวน ดังต่อไปนี้\n",
        "```\n",
        "-5 -4 -3 -2 -1 0 1 2 3 4 5 count=11\n",
        "```\n",
        "<hr>\n"
      ],
      "metadata": {
        "id": "AY4VM7RL92VJ"
      }
    },
    {
      "cell_type": "code",
      "source": [
        "count = 0\n",
        "x = int(input())\n",
        "y = int(input())\n",
        "d = int(input())\n",
        "while True:\n",
        "  if x > y:\n",
        "    print(\"Error\")\n",
        "    break\n",
        "  if d == 0:\n",
        "    print(\"Error\")\n",
        "    break\n",
        "  for i in range(x,y):\n",
        "    if i%d == 0:\n",
        "      count += 1\n",
        "      print(i,'',end=\"\")\n",
        "  if y%d == 0:\n",
        "    count += 1\n",
        "    print(y)\n",
        "  break\n",
        "print('count =',count)"
      ],
      "metadata": {
        "id": "XckfAUUM-lRJ",
        "colab": {
          "base_uri": "https://localhost:8080/"
        },
        "outputId": "27e65a4c-58cf-435e-ddb3-d767fea4e6a4"
      },
      "execution_count": null,
      "outputs": [
        {
          "output_type": "stream",
          "name": "stdout",
          "text": [
            "-5\n",
            "5\n",
            "1\n",
            "-5 -4 -3 -2 -1 0 1 2 3 4 5\n",
            "count = 11\n"
          ]
        }
      ]
    },
    {
      "cell_type": "code",
      "source": [],
      "metadata": {
        "id": "uHDZhFKeHQZK"
      },
      "execution_count": null,
      "outputs": []
    }
  ]
}