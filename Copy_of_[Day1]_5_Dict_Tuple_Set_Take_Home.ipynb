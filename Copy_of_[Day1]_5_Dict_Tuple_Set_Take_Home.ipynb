{
  "nbformat": 4,
  "nbformat_minor": 0,
  "metadata": {
    "colab": {
      "provenance": [],
      "include_colab_link": true
    },
    "kernelspec": {
      "name": "python3",
      "display_name": "Python 3"
    },
    "language_info": {
      "name": "python"
    }
  },
  "cells": [
    {
      "cell_type": "markdown",
      "metadata": {
        "id": "view-in-github",
        "colab_type": "text"
      },
      "source": [
        "<a href=\"https://colab.research.google.com/github/jOMmY-cyber/mahidol/blob/main/Copy_of_%5BDay1%5D_5_Dict_Tuple_Set_Take_Home.ipynb\" target=\"_parent\"><img src=\"https://colab.research.google.com/assets/colab-badge.svg\" alt=\"Open In Colab\"/></a>"
      ]
    },
    {
      "cell_type": "markdown",
      "source": [
        "### โจทย์ฝึกปฏิบัติ"
      ],
      "metadata": {
        "id": "yQWXfozOcgcH"
      }
    },
    {
      "cell_type": "markdown",
      "source": [
        "## Lab - Q10\n",
        "\n",
        "จงสร้าง Dictionary จากข้อมูลในตารางรายการอาหารที่อาจารย์ `Puppy` รับประทานในหนึ่งวัน และตอบคำถามต่อไปนี้\n",
        "    - แสดงผลรายชื่ออาหารที่กิน โดยใช้ Loop\n",
        "    - จำนวนรายการอาหารทั้งหมดที่กิน\n",
        "    - คำนวณหาผลรวมของ calories และแสดงผลลัพธ์"
      ],
      "metadata": {
        "id": "aE9fuBc_ck6L"
      }
    },
    {
      "cell_type": "code",
      "execution_count": null,
      "metadata": {
        "id": "ssokW5ZOcI1K",
        "colab": {
          "base_uri": "https://localhost:8080/"
        },
        "outputId": "95b3dde3-b679-4b76-a0e4-1730a58e4082"
      },
      "outputs": [
        {
          "output_type": "stream",
          "name": "stdout",
          "text": [
            "apple avocado orange pear \n",
            "จำนวนอาหาร คือ 4\n",
            "Total Cal:352.0\n"
          ]
        }
      ],
      "source": [
        "# สร้าง Dictionary จากข้อมูลอาหาร {ชื่ออาหาร:calories}\n",
        "foodP = {\n",
        "   'apple':49.0,\n",
        "   'avocado':208.0,\n",
        "   'orange':38.0,\n",
        "   'pear':57.0\n",
        "}\n",
        "# แสดงรายชื่ออาหาร Loop เอาเฉพาะ keys\n",
        "for i in foodP.keys():\n",
        "\tprint(i, end=' ')\n",
        "\n",
        "# จำนวนอาหาร (เฉลยไว้ให้แล้ว)\n",
        "print(f'\\nจำนวนอาหาร คือ {len(foodP.keys())}')\n",
        "\n",
        "# คำนวณ Calories ทั้งหมดจากรายการอาหาร\n",
        "total_cal=0\n",
        "\n",
        "for j in foodP.values():\n",
        "    total_cal=total_cal+j\n",
        "\n",
        "\n",
        "print(f'Total Cal:{total_cal}')"
      ]
    },
    {
      "cell_type": "code",
      "source": [],
      "metadata": {
        "id": "bOH349DI2dHH"
      },
      "execution_count": null,
      "outputs": []
    }
  ]
}